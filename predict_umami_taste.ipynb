{
  "cells": [
    {
      "cell_type": "markdown",
      "metadata": {
        "id": "hRCXF2IynbBD"
      },
      "source": [
        "### Downloading the model"
      ],
      "id": "hRCXF2IynbBD"
    },
    {
      "cell_type": "markdown",
      "source": [
        "Download the folder with the Bert model from Google disk"
      ],
      "metadata": {
        "id": "dbgBx9_7QGSU"
      },
      "id": "dbgBx9_7QGSU"
    },
    {
      "cell_type": "code",
      "source": [
        "import gdown\n",
        "\n",
        "url = \"https://drive.google.com/drive/folders/12JCOBAEeAcym9U_HWQ3HMpebgln6Ys3W\"\n",
        "gdown.download_folder(url, use_cookies=False)"
      ],
      "metadata": {
        "id": "rT3EfyY0F05t"
      },
      "id": "rT3EfyY0F05t",
      "execution_count": null,
      "outputs": []
    },
    {
      "cell_type": "markdown",
      "source": [
        "Specify the path to the Bert model"
      ],
      "metadata": {
        "id": "PzaD9kS0QS5b"
      },
      "id": "PzaD9kS0QS5b"
    },
    {
      "cell_type": "code",
      "source": [
        "model_path = \"/content/models\""
      ],
      "metadata": {
        "id": "diHayEu2hYx4"
      },
      "id": "diHayEu2hYx4",
      "execution_count": null,
      "outputs": []
    },
    {
      "cell_type": "markdown",
      "source": [
        "### Installing required packages and libraries"
      ],
      "metadata": {
        "id": "PSHxn-HNjKPL"
      },
      "id": "PSHxn-HNjKPL"
    },
    {
      "cell_type": "markdown",
      "metadata": {
        "id": "9l6FGfEB6Tbz"
      },
      "source": [
        "Install the transformers and accelerate packages"
      ],
      "id": "9l6FGfEB6Tbz"
    },
    {
      "cell_type": "code",
      "execution_count": null,
      "metadata": {
        "id": "yHCKKFlW6GZi"
      },
      "outputs": [],
      "source": [
        "!pip install transformers\n",
        "!pip install accelerate"
      ],
      "id": "yHCKKFlW6GZi"
    },
    {
      "cell_type": "markdown",
      "source": [
        "Import the necessary libraries"
      ],
      "metadata": {
        "id": "yH1AeTW2jVXZ"
      },
      "id": "yH1AeTW2jVXZ"
    },
    {
      "cell_type": "code",
      "execution_count": null,
      "metadata": {
        "id": "6-ei4mr568Rh"
      },
      "outputs": [],
      "source": [
        "from transformers import pipeline"
      ],
      "id": "6-ei4mr568Rh"
    },
    {
      "cell_type": "markdown",
      "source": [
        "### Declaring a function that predicts intensity from a peptide sequence"
      ],
      "metadata": {
        "id": "Ji9CAX4Rjkn7"
      },
      "id": "Ji9CAX4Rjkn7"
    },
    {
      "cell_type": "markdown",
      "metadata": {
        "id": "xCV_Q05u75gb"
      },
      "source": [
        "The function predict_umami_intensity takes as input a list of strings `list[str]`. The output is a list of intensities `list[float]`. Example usage:\n",
        "\n",
        "For one peptide:\n",
        "```\n",
        "predict_umami_intensity([\"ALPAEV\"])\n",
        "```\n",
        "For several peptides:\n",
        "```\n",
        "predict_umami_intensity([\"ALPAEV\", \"AAAA\", \"AAEEAA\"])\n",
        "```\n"
      ],
      "id": "xCV_Q05u75gb"
    },
    {
      "cell_type": "code",
      "execution_count": null,
      "metadata": {
        "id": "r5YfeD0xnaxq"
      },
      "outputs": [],
      "source": [
        "def predict_umami_intensity(peptides: list[str]) -> list[float]:\n",
        "    peptides = [\" \".join(pept) for pept in peptides]\n",
        "    pipe = pipeline('text-classification', model=model_path, function_to_apply=\"none\")\n",
        "    result = pipe(peptides)\n",
        "    return [pred[\"score\"] for pred in result]"
      ],
      "id": "r5YfeD0xnaxq"
    },
    {
      "cell_type": "markdown",
      "source": [
        "You can test your peptide here:"
      ],
      "metadata": {
        "id": "UK33uomIREh6"
      },
      "id": "UK33uomIREh6"
    },
    {
      "cell_type": "code",
      "execution_count": null,
      "metadata": {
        "id": "pIy8-cLdvtj4"
      },
      "outputs": [],
      "source": [
        "predict_umami_intensity([\"EEFD\"])"
      ],
      "id": "pIy8-cLdvtj4"
    },
    {
      "cell_type": "markdown",
      "metadata": {
        "id": "h_zlnn4p9K-b"
      },
      "source": [
        "### Construction a heat map"
      ],
      "id": "h_zlnn4p9K-b"
    },
    {
      "cell_type": "markdown",
      "metadata": {
        "id": "DEpqMfv5-S2n"
      },
      "source": [
        "Install the necessary libraries for python"
      ],
      "id": "DEpqMfv5-S2n"
    },
    {
      "cell_type": "code",
      "execution_count": null,
      "metadata": {
        "id": "DFrAnMOE-Tf_"
      },
      "outputs": [],
      "source": [
        "!pip install seaborn\n",
        "!pip install pandas"
      ],
      "id": "DFrAnMOE-Tf_"
    },
    {
      "cell_type": "markdown",
      "metadata": {
        "id": "270HiQpt_f8l"
      },
      "source": [
        "Connect the necessary python libraries"
      ],
      "id": "270HiQpt_f8l"
    },
    {
      "cell_type": "code",
      "execution_count": null,
      "metadata": {
        "id": "tjAJSrfz9YNW"
      },
      "outputs": [],
      "source": [
        "import seaborn as sns\n",
        "import matplotlib.pyplot as plt\n",
        "import pandas as pd"
      ],
      "id": "tjAJSrfz9YNW"
    },
    {
      "cell_type": "code",
      "execution_count": null,
      "metadata": {
        "id": "OfTm2js8_qXB"
      },
      "outputs": [],
      "source": [
        "aminoacid_dictionary = [\"EE\", \"EG\", \"EK\", \"YG\"]\n",
        "aminoacid_dictionary_length = len(aminoacid_dictionary)\n",
        "\n",
        "peptides = []\n",
        "for aminoacid in aminoacid_dictionary:\n",
        "    for i in range(aminoacid_dictionary_length):\n",
        "        new_peptide = [aminoacid, aminoacid_dictionary[i], aminoacid + aminoacid_dictionary[i]]\n",
        "        peptides.append(new_peptide)\n",
        "\n",
        "peptides_for_ml = []\n",
        "str_peptide_index = 2\n",
        "for i in range(len(peptides)):\n",
        "    peptides_for_ml.append(peptides[i][str_peptide_index])\n",
        "\n",
        "print(peptides_for_ml)\n",
        "\n",
        "c_values = predict_umami_intensity(peptides_for_ml)\n",
        "c_formatted_values = ['%.2f' % elem for elem in c_values]\n",
        "\n",
        "i = 0\n",
        "for peptide in peptides:\n",
        "    peptide.append(c_formatted_values[i])\n",
        "    i += 1\n",
        "\n",
        "d = {\n",
        "    'aminoacid_1': [],\n",
        "    'aminoacid_2': [],\n",
        "    'score': []\n",
        "}\n",
        "\n",
        "for peptide in peptides:\n",
        "    d['aminoacid_1'].append(peptide[0])\n",
        "    d['aminoacid_2'].append(peptide[1])\n",
        "    d['score'].append(float(peptide[3]))\n",
        "\n",
        "df = pd.DataFrame(d)\n",
        "# pivot the dataframe from long to wide form\n",
        "result = df.pivot(index=\"aminoacid_1\", columns=\"aminoacid_2\", values=\"score\")\n",
        "sns.heatmap(result, annot=True, fmt=\"g\", cmap='viridis')\n",
        "plt.show()"
      ],
      "id": "OfTm2js8_qXB"
    }
  ],
  "metadata": {
    "accelerator": "GPU",
    "colab": {
      "provenance": []
    },
    "kernelspec": {
      "display_name": "Python 3",
      "name": "python3"
    },
    "language_info": {
      "codemirror_mode": {
        "name": "ipython",
        "version": 3
      },
      "file_extension": ".py",
      "mimetype": "text/x-python",
      "name": "python",
      "nbconvert_exporter": "python",
      "pygments_lexer": "ipython3",
      "version": "3.10.6"
    }
  },
  "nbformat": 4,
  "nbformat_minor": 5
}